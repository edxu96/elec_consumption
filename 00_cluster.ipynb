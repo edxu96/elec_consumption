{
 "cells": [
  {
   "cell_type": "code",
   "execution_count": null,
   "metadata": {},
   "outputs": [],
   "source": [
    "# default_exp cluster"
   ]
  },
  {
   "cell_type": "markdown",
   "metadata": {},
   "source": [
    "# 2. Cluster Analysis\n",
    "\n",
    "Households are to be clustered based on either hourly or daily consumption profiles."
   ]
  },
  {
   "cell_type": "code",
   "execution_count": null,
   "metadata": {},
   "outputs": [],
   "source": [
    "#hide\n",
    "from nbdev.showdoc import *"
   ]
  },
  {
   "cell_type": "code",
   "execution_count": null,
   "metadata": {},
   "outputs": [
    {
     "name": "stderr",
     "output_type": "stream",
     "text": [
      "/Users/edxu96/Library/Caches/pypoetry/virtualenvs/elec-consumption-FzRBkitR-py3.7/lib/python3.7/site-packages/sklearn/utils/deprecation.py:143: FutureWarning: The sklearn.cluster.k_means_ module is  deprecated in version 0.22 and will be removed in version 0.24. The corresponding classes / functions should instead be imported from sklearn.cluster. Anything that cannot be imported from sklearn.cluster is now part of the private API.\n",
      "  warnings.warn(message, FutureWarning)\n",
      "/Users/edxu96/Library/Caches/pypoetry/virtualenvs/elec-consumption-FzRBkitR-py3.7/lib/python3.7/site-packages/tslearn/bases.py:15: UserWarning: h5py not installed, hdf5 features will not be supported.\n",
      "Install h5py to use hdf5 features: http://docs.h5py.org/\n",
      "  warn(h5py_msg)\n"
     ]
    }
   ],
   "source": [
    "#hide\n",
    "from elec_consumption.core import *\n",
    "import elec_consumption.performance as performance\n",
    "import datetime\n",
    "import matplotlib.pyplot as plt\n",
    "import numpy as np\n",
    "import pandas as pd\n",
    "from pandas.core.frame import DataFrame\n",
    "import seaborn as sns\n",
    "from sklearn import metrics\n",
    "from tslearn.clustering import KShape, TimeSeriesKMeans\n",
    "from tslearn.utils import (\n",
    "    check_equal_size, to_time_series_dataset, to_sklearn_dataset\n",
    ")"
   ]
  },
  {
   "cell_type": "code",
   "execution_count": null,
   "metadata": {},
   "outputs": [],
   "source": [
    "#hide\n",
    "from nbdev.showdoc import *"
   ]
  },
  {
   "cell_type": "code",
   "execution_count": null,
   "metadata": {},
   "outputs": [],
   "source": [
    "#hide\n",
    "%matplotlib inline\n",
    "plt.style.use('seaborn')\n",
    "plt.rcParams['figure.figsize'] = [4 * 1.61803398875, 4]\n",
    "_seed = 123  # for clustering analysis"
   ]
  },
  {
   "cell_type": "markdown",
   "metadata": {},
   "source": [
    "Import dataframe and test."
   ]
  },
  {
   "cell_type": "code",
   "execution_count": null,
   "metadata": {},
   "outputs": [],
   "source": [
    "#hide\n",
    "df = pd.read_csv('./data/raw.csv', index_col=0)\n",
    "df.columns = list(range(df.shape[1]))\n",
    "df.columns.name = 'household'\n",
    "df.index = pd.to_datetime(df.index)\n",
    "df.index.name = 'datetime'"
   ]
  },
  {
   "cell_type": "code",
   "execution_count": null,
   "metadata": {},
   "outputs": [],
   "source": [
    "#hide\n",
    "mts = to_time_series_dataset(df.fillna(0).T)\n",
    "n_ts, max_sz, d = mts.shape"
   ]
  },
  {
   "cell_type": "code",
   "execution_count": null,
   "metadata": {},
   "outputs": [],
   "source": [
    "assert (n_ts == 500 and max_sz == 5856 and d == 1)\n",
    "assert check_equal_size(mts)"
   ]
  },
  {
   "cell_type": "markdown",
   "metadata": {},
   "source": [
    "## 1. Example\n",
    "For example, assume there are 4 clusters."
   ]
  },
  {
   "cell_type": "code",
   "execution_count": null,
   "metadata": {},
   "outputs": [],
   "source": [
    "#hide\n",
    "km = TimeSeriesKMeans(\n",
    "    n_clusters=4, verbose=False, random_state=_seed)\n",
    "clustered = km.fit_predict(mts)\n",
    "\n",
    "description = df.describe().T\n",
    "description['cluster_id'] = clustered"
   ]
  },
  {
   "cell_type": "code",
   "execution_count": null,
   "metadata": {},
   "outputs": [
    {
     "data": {
      "text/html": [
       "<div>\n",
       "<style scoped>\n",
       "    .dataframe tbody tr th:only-of-type {\n",
       "        vertical-align: middle;\n",
       "    }\n",
       "\n",
       "    .dataframe tbody tr th {\n",
       "        vertical-align: top;\n",
       "    }\n",
       "\n",
       "    .dataframe thead th {\n",
       "        text-align: right;\n",
       "    }\n",
       "</style>\n",
       "<table border=\"1\" class=\"dataframe\">\n",
       "  <thead>\n",
       "    <tr style=\"text-align: right;\">\n",
       "      <th></th>\n",
       "      <th>count</th>\n",
       "      <th>mean</th>\n",
       "      <th>std</th>\n",
       "      <th>min</th>\n",
       "      <th>25%</th>\n",
       "      <th>50%</th>\n",
       "      <th>75%</th>\n",
       "      <th>max</th>\n",
       "      <th>cluster_id</th>\n",
       "    </tr>\n",
       "    <tr>\n",
       "      <th>household</th>\n",
       "      <th></th>\n",
       "      <th></th>\n",
       "      <th></th>\n",
       "      <th></th>\n",
       "      <th></th>\n",
       "      <th></th>\n",
       "      <th></th>\n",
       "      <th></th>\n",
       "      <th></th>\n",
       "    </tr>\n",
       "  </thead>\n",
       "  <tbody>\n",
       "    <tr>\n",
       "      <th>0</th>\n",
       "      <td>5328.0</td>\n",
       "      <td>0.122169</td>\n",
       "      <td>0.135841</td>\n",
       "      <td>0.011</td>\n",
       "      <td>0.052</td>\n",
       "      <td>0.082</td>\n",
       "      <td>0.137</td>\n",
       "      <td>1.540</td>\n",
       "      <td>1</td>\n",
       "    </tr>\n",
       "    <tr>\n",
       "      <th>1</th>\n",
       "      <td>5280.0</td>\n",
       "      <td>0.128278</td>\n",
       "      <td>0.154372</td>\n",
       "      <td>0.010</td>\n",
       "      <td>0.043</td>\n",
       "      <td>0.075</td>\n",
       "      <td>0.144</td>\n",
       "      <td>1.479</td>\n",
       "      <td>1</td>\n",
       "    </tr>\n",
       "    <tr>\n",
       "      <th>2</th>\n",
       "      <td>5328.0</td>\n",
       "      <td>0.147232</td>\n",
       "      <td>0.093699</td>\n",
       "      <td>0.026</td>\n",
       "      <td>0.086</td>\n",
       "      <td>0.126</td>\n",
       "      <td>0.180</td>\n",
       "      <td>1.131</td>\n",
       "      <td>1</td>\n",
       "    </tr>\n",
       "  </tbody>\n",
       "</table>\n",
       "</div>"
      ],
      "text/plain": [
       "            count      mean       std    min    25%    50%    75%    max  \\\n",
       "household                                                                  \n",
       "0          5328.0  0.122169  0.135841  0.011  0.052  0.082  0.137  1.540   \n",
       "1          5280.0  0.128278  0.154372  0.010  0.043  0.075  0.144  1.479   \n",
       "2          5328.0  0.147232  0.093699  0.026  0.086  0.126  0.180  1.131   \n",
       "\n",
       "           cluster_id  \n",
       "household              \n",
       "0                   1  \n",
       "1                   1  \n",
       "2                   1  "
      ]
     },
     "execution_count": null,
     "metadata": {},
     "output_type": "execute_result"
    }
   ],
   "source": [
    "#hide_input\n",
    "description.head(3)"
   ]
  },
  {
   "cell_type": "markdown",
   "metadata": {},
   "source": [
    "Sum of distances of samples to their closest cluster center:"
   ]
  },
  {
   "cell_type": "markdown",
   "metadata": {},
   "source": [
    "## 2. Performance Evaluation"
   ]
  },
  {
   "cell_type": "code",
   "execution_count": null,
   "metadata": {},
   "outputs": [],
   "source": [
    "#hide\n",
    "mts_sklearn = to_sklearn_dataset(mts)"
   ]
  },
  {
   "cell_type": "code",
   "execution_count": null,
   "metadata": {},
   "outputs": [
    {
     "data": {
      "image/png": "[encoded data removed]",
      "text/plain": [
       "<Figure size 465.994x288 with 1 Axes>"
      ]
     },
     "metadata": {},
     "output_type": "display_data"
    }
   ],
   "source": [
    "#hide_input\n",
    "performance.plot_silhouette_2d(\n",
    "    4, clustered, mts_sklearn, centers=km.cluster_centers_\n",
    ")"
   ]
  },
  {
   "cell_type": "code",
   "execution_count": null,
   "metadata": {},
   "outputs": [
    {
     "name": "stdout",
     "output_type": "stream",
     "text": [
      "For n_clusters = 4 The average silhouette_score is : 0.27821213695582137\n"
     ]
    },
    {
     "data": {
      "image/png": "[encoded data removed]",
      "text/plain": [
       "<Figure size 465.994x288 with 1 Axes>"
      ]
     },
     "metadata": {},
     "output_type": "display_data"
    }
   ],
   "source": [
    "#hide_input\n",
    "performance.plot_silhouette(\n",
    "    4, clustered, mts_sklearn\n",
    ")"
   ]
  },
  {
   "cell_type": "markdown",
   "metadata": {},
   "source": [
    "## 3. Use `KShape`\n",
    "\n",
    "It takes a while to cluster using `KShape`."
   ]
  },
  {
   "cell_type": "code",
   "execution_count": null,
   "metadata": {},
   "outputs": [],
   "source": [
    "#hide\n",
    "# ks = KShape(3, verbose=False)\n",
    "# clustered_ks = ks.fit_predict(mts)\n",
    "# description['cluster_id_ks'] = clustered_ks"
   ]
  },
  {
   "cell_type": "markdown",
   "metadata": {},
   "source": [
    "### Optimal Num of Clusters"
   ]
  },
  {
   "cell_type": "code",
   "execution_count": null,
   "metadata": {},
   "outputs": [],
   "source": [
    "#export\n",
    "def cal_inertia(n_clusters: int) -> float:\n",
    "    \"\"\"Calculate sum of distances to closest cluster centre.\n",
    "    \n",
    "    Args:\n",
    "        n_clusters: number of clusters.\n",
    "    \n",
    "    Returns:\n",
    "        Sum of distances to closest cluster centre.\n",
    "    \"\"\"\n",
    "    km = TimeSeriesKMeans(\n",
    "        n_clusters=n_clusters, verbose=False, random_state=_seed)\n",
    "    km.fit_predict(mts)\n",
    "    return km.inertia_"
   ]
  },
  {
   "cell_type": "code",
   "execution_count": null,
   "metadata": {},
   "outputs": [],
   "source": [
    "#hide\n",
    "y = []\n",
    "x = [i for i in range(1, 15)]\n",
    "for n_clusters in x:\n",
    "    y.append(cal_inertia(n_clusters))"
   ]
  },
  {
   "cell_type": "code",
   "execution_count": null,
   "metadata": {},
   "outputs": [
    {
     "data": {
      "image/png": "[encoded data removed]",
      "text/plain": [
       "<Figure size 465.994x288 with 1 Axes>"
      ]
     },
     "metadata": {},
     "output_type": "display_data"
    }
   ],
   "source": [
    "#hide_input\n",
    "sns.lineplot(x=x, y=y);"
   ]
  }
 ],
 "metadata": {
  "kernelspec": {
   "display_name": "elec_consumption3.7",
   "language": "python",
   "name": "elec_consumption3.7"
  }
 },
 "nbformat": 4,
 "nbformat_minor": 4
}
